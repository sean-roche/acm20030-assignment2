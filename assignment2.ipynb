{
 "cells": [
  {
   "cell_type": "markdown",
   "metadata": {},
   "source": [
    "# Assignment 2\n",
    "\n",
    "Complete the questions below in any order you like. Remember to commit the changes to GitHub as you go. The total marks for this assignment is 30."
   ]
  },
  {
   "cell_type": "markdown",
   "metadata": {},
   "source": [
    "# Question 0 [3 marks]\n",
    "\n",
    "You should have saved this notebook to your ACM20030-Assignments folder. Now:\n",
    "- commit the notebook to your local repository\n",
    "- push the changes to the GitHub\n",
    "- You will get marks for the question for using Git (i.e., pushing your assignment to the repository when asked below)"
   ]
  },
  {
   "cell_type": "code",
   "execution_count": 35,
   "metadata": {},
   "outputs": [],
   "source": [
    "import numpy as np\n",
    "import matplotlib.pyplot as plt"
   ]
  },
  {
   "cell_type": "code",
   "execution_count": 36,
   "metadata": {},
   "outputs": [],
   "source": [
    "# The below commands make the font and image size bigger\n",
    "plt.rcParams.update({'font.size': 22})\n",
    "plt.rcParams[\"figure.figsize\"] = (15,10)"
   ]
  },
  {
   "cell_type": "markdown",
   "metadata": {},
   "source": [
    "# Question 1: Bracketing and bisection method [9 marks]"
   ]
  },
  {
   "cell_type": "markdown",
   "metadata": {},
   "source": [
    "### Q. 1a [2 marks]\n",
    "Define a function for the quintic $f(x) = x^5-5 x^4-15 x^3+65 x^2+74 x-120$ and plot it in the range $x=-4\\dots6$"
   ]
  },
  {
   "cell_type": "code",
   "execution_count": 37,
   "metadata": {},
   "outputs": [
    {
     "data": {
      "image/png": "[encoded data removed]",
      "text/plain": [
       "<Figure size 1080x720 with 1 Axes>"
      ]
     },
     "metadata": {
      "needs_background": "light"
     },
     "output_type": "display_data"
    }
   ],
   "source": [
    "def f(x):\n",
    "    return x**5 - 5*x**4 - 15*x**3 + 65*x**2 + 74*x - 120\n",
    "    \n",
    "X = np.linspace(-4,6,11)\n",
    "plt.plot(X, f(X))\n",
    "plt.grid()\n",
    "plt.show()\n"
   ]
  },
  {
   "cell_type": "markdown",
   "metadata": {},
   "source": [
    "### Q. 1b [2 marks]\n",
    "Using the plot, pick values of $a$ and $b$ such that $f(a) < 0$ and $f(b) > 0$ and the function has a **single** root in the region $(a,b)$. Assign variables called a and b to these values and print the values of $f(a)$ and $f(b)$."
   ]
  },
  {
   "cell_type": "code",
   "execution_count": 38,
   "metadata": {},
   "outputs": [
    {
     "name": "stdout",
     "output_type": "stream",
     "text": [
      "-120\n",
      "120\n"
     ]
    }
   ],
   "source": [
    "#picking values a = 0 and b = 2\n",
    "a = 0\n",
    "b = 2\n",
    "print (f(a))\n",
    "print (f(b))"
   ]
  },
  {
   "cell_type": "markdown",
   "metadata": {},
   "source": [
    "Use the following FindRootBisection method to find the root to within a precision of $10^{-12}$"
   ]
  },
  {
   "cell_type": "code",
   "execution_count": 41,
   "metadata": {},
   "outputs": [],
   "source": [
    "# This function only works when a < b and f(a) < 0 < f(b)\n",
    "def FindRootBisection(f, a, b, tol, printSteps=False):\n",
    "    left = a\n",
    "    right = b\n",
    "    while right-left > tol:\n",
    "        midpoint = (left+right)/2\n",
    "        if(f(midpoint) < 0):\n",
    "            left = midpoint\n",
    "        else:\n",
    "            right = midpoint\n",
    "        if(printSteps == True):\n",
    "            print(midpoint)\n",
    "    return midpoint"
   ]
  },
  {
   "cell_type": "code",
   "execution_count": 42,
   "metadata": {},
   "outputs": [
    {
     "data": {
      "text/plain": [
       "0.9999999999990905"
      ]
     },
     "execution_count": 42,
     "metadata": {},
     "output_type": "execute_result"
    }
   ],
   "source": [
    "FindRootBisection(f, 0, 2, 1e-12)"
   ]
  },
  {
   "cell_type": "markdown",
   "metadata": {},
   "source": [
    "### Q. 1c [5 marks]\n",
    "As the comment on the above FindRootBisection( ) function says it only works when $a<b$ and $f(a) < 0 < f(b)$. Create a new function that: \n",
    " - **also** works when $f(a) > 0 > f(b)$. \n",
    " - Checks that $\\text{sign}(f(a)) \\neq \\text{sign}(f(b))$. If not the function should return \"sign(f(a)) = sign(f(b)) \", where $a$ and $b$ have been replaced by their values\n",
    " \n",
    "Call your new function FindRootBisectionImproved( ).  \n",
    "Useful function: np.sign(x) will return sign(x)\n",
    "\n",
    "Check your new function by:\n",
    " - finding the root between $x = -2.5$ and $x=-1$\n",
    " - finding the root between $x = 0$ and $x=2$\n",
    " - attempting to find a root between $x=6$ and $x=8$ (there is not root in this region)"
   ]
  },
  {
   "cell_type": "code",
   "execution_count": 43,
   "metadata": {},
   "outputs": [
    {
     "data": {
      "text/plain": [
       "-1.9999999999997726"
      ]
     },
     "execution_count": 43,
     "metadata": {},
     "output_type": "execute_result"
    }
   ],
   "source": [
    "def FindRootBisectionImproved(f, a, b, tol, printSteps=False):\n",
    "    #adding in part for comparing sign of a and b \n",
    "    if np.sign(f(a)) == np.sign(f(b)):\n",
    "        return \"sign(f(a))=sign(f(b))\"\n",
    "    \n",
    "    left = a\n",
    "    right = b\n",
    "    while right-left > tol:\n",
    "        midpoint = (left+right)/2\n",
    "        if (np.sign(f(midpoint)) == np.sign(f(a))):\n",
    "            left = midpoint\n",
    "        else:\n",
    "            right = midpoint\n",
    "        if(printSteps == True):\n",
    "            print(midpoint)\n",
    "    return midpoint\n",
    "#check new formula using new values\n",
    "FindRootBisectionImproved(f, -2.5, -1, 1e-12)"
   ]
  },
  {
   "cell_type": "code",
   "execution_count": 44,
   "metadata": {},
   "outputs": [
    {
     "data": {
      "text/plain": [
       "0.9999999999990905"
      ]
     },
     "execution_count": 44,
     "metadata": {},
     "output_type": "execute_result"
    }
   ],
   "source": [
    "FindRootBisectionImproved(f, 0, 2, 1e-12)"
   ]
  },
  {
   "cell_type": "code",
   "execution_count": 45,
   "metadata": {},
   "outputs": [
    {
     "data": {
      "text/plain": [
       "'sign(f(a))=sign(f(b))'"
      ]
     },
     "execution_count": 45,
     "metadata": {},
     "output_type": "execute_result"
    }
   ],
   "source": [
    "FindRootBisectionImproved(f, 6, 8, 1e-12)"
   ]
  },
  {
   "cell_type": "markdown",
   "metadata": {},
   "source": [
    "**Commit this question to your git repository and push the changes to GitHub**"
   ]
  },
  {
   "cell_type": "markdown",
   "metadata": {},
   "source": [
    "# Question 2: Newton-Raphson method [9 marks]"
   ]
  },
  {
   "cell_type": "markdown",
   "metadata": {},
   "source": [
    "### Q. 2a [3 marks]\n",
    " - Define a function $p(x) = x\\log(\\sqrt{x^2})$. Compute its derivative and define it as $dp(x) = \\dots$\n",
    " - Plot the function between $x=-2$ and $x=2$. Label the plot axes and use a grid.\n",
    " - By visual inspection state the location of the three roots"
   ]
  },
  {
   "cell_type": "code",
   "execution_count": null,
   "metadata": {},
   "outputs": [],
   "source": []
  },
  {
   "cell_type": "markdown",
   "metadata": {},
   "source": [
    "### Q. 2b [2 marks]\n",
    " - Starting with a value $x_0$ near the root at $x=1$ such that $|x_0-1| \\ge 0.5$ use the below Newton-Raphson code to find the root to accuracy of $1\\times10^{-6}$"
   ]
  },
  {
   "cell_type": "code",
   "execution_count": 91,
   "metadata": {},
   "outputs": [],
   "source": [
    "def FindRootNewtonRaphson(f, df, x0, tol, printSteps=False):\n",
    "    f0 = f(x0)\n",
    "    count = 1\n",
    "    while np.abs(f0) > tol and count < 20:\n",
    "        f0 = f(x0)\n",
    "        x0 = x0 - f0/df(x0)\n",
    "        count += 1\n",
    "        if(printSteps):\n",
    "            print(\"x_%d = %.14lf\" % (count, x0))\n",
    "    return x0"
   ]
  },
  {
   "cell_type": "code",
   "execution_count": null,
   "metadata": {},
   "outputs": [],
   "source": []
  },
  {
   "cell_type": "markdown",
   "metadata": {},
   "source": [
    "### Q. 2c [4 marks]\n",
    "As we discussed in the lectures, the Newton-Raphson method (usually) converges quadradically if an initial guess is given that is sufficiently close to the root. If the guess is too far from the root the method can diverge. In this question we will find the critical value between converging and diverging where the method oscilliates with period 2.\n",
    "\n",
    "If we define $F(x) = x - p(x)/p'(x)$, then a period-2 orbit will occur when $F(F(x)) = x$. In general this will be a complicated function so it might be very difficult to find the solution analytically. Instead, we can write this equation as $F(F(x)) - x = 0$, so the value of $x$ we want is the root.\n",
    "\n",
    "- Define a function F(x)\n",
    "- Define a function F2(x) which returns $F(F(x)) - x$\n",
    "- Plot F2(x) between $x=-0.2\\dots0.2$. Restrict the range on the $y$-axis to be between $-0.5$ and $0.5$. Add labels and a grid."
   ]
  },
  {
   "cell_type": "code",
   "execution_count": null,
   "metadata": {},
   "outputs": [],
   "source": []
  },
  {
   "cell_type": "markdown",
   "metadata": {},
   "source": [
    "- We want to find a root with $x \\neq \\{-1,0,1\\}$. As we don't have easy access to the derivative of the function $F2(x)$ use the bisection method function from above to find a root to a precision of $10^{-15}$. Use the plot from the previous part to bracket a root. **Assign** the vaue of the root of the variable 'x2' and also print(x2).\n",
    "- Using the Newton-Raphson method with the function $p(x)$ and the initial guess x2. Set the final argument to True to print out the steps in the method takes. You should see that they oscillate between two values and does not converge."
   ]
  },
  {
   "cell_type": "code",
   "execution_count": null,
   "metadata": {},
   "outputs": [],
   "source": []
  },
  {
   "cell_type": "markdown",
   "metadata": {},
   "source": [
    "By slightly perturbing the initial guess we can get the method to converge or diverge. Try:\n",
    " - adding $10^{-3}$ to the initial guess. Does the method converge or diverge? If it converges, to which root does it converge?\n",
    " - subtracting $10^{-3}$ from the initial guess. Does the method converge or diverge? If it converges, to which root does it converge?\n",
    " \n",
    "In both cases set the final argument to 'True' to get the function to print the steps the method is taking"
   ]
  },
  {
   "cell_type": "markdown",
   "metadata": {},
   "source": [
    "**Commit this question to your git repository and push the changes to GitHub**"
   ]
  },
  {
   "cell_type": "markdown",
   "metadata": {},
   "source": [
    "# Question 3: Slow convergence of the Newton-Raphson method at repeated roots [9 marks]\n",
    "The Newton-Raphson method usual converges quadratically but it will converge more slowly at repeated roots. In this question we will look at an example of this."
   ]
  },
  {
   "cell_type": "markdown",
   "metadata": {},
   "source": [
    "Define the function $g(x) = (x+1)^2(x-2)$, and also define its derivative $g'(x)$. Plot the function from $x=-2\\dots2.5$"
   ]
  },
  {
   "cell_type": "code",
   "execution_count": null,
   "metadata": {},
   "outputs": [],
   "source": []
  },
  {
   "cell_type": "markdown",
   "metadata": {},
   "source": [
    "Run the FindRootNewtonRaphson command with the final (optional) argument set to True to see the steps the algorithm takes. Run it with:\n",
    " - the initial value of $x_0 = -1.5$\n",
    " - the initial value of $x_0 = 1.5$"
   ]
  },
  {
   "cell_type": "code",
   "execution_count": null,
   "metadata": {},
   "outputs": [],
   "source": []
  },
  {
   "cell_type": "markdown",
   "metadata": {},
   "source": [
    "What do you notice about the convergence rates in these two cases? Let's examine it more carefully. The function below returns the individual steps of the Newton-Raphson algorithm."
   ]
  },
  {
   "cell_type": "code",
   "execution_count": 167,
   "metadata": {},
   "outputs": [],
   "source": [
    "def FindRootNewtonRaphsonSteps(f, df, x0, tol):\n",
    "    steps = np.array([x0])\n",
    "    f0 = f(x0)\n",
    "    count = 1\n",
    "    while np.abs(f0) > tol:\n",
    "        f0 = f(x0)\n",
    "        x0 = x0 - f0/df(x0)\n",
    "        steps = np.append(steps, x0)\n",
    "        count += 1\n",
    "    return steps"
   ]
  },
  {
   "cell_type": "markdown",
   "metadata": {},
   "source": [
    "Using the above function:\n",
    "- compute the steps for the function $g(x)$ with  $x_0 = 1.5$. Assign the result to a variable.\n",
    "- compute the steps for the function $g(x)$ with  $x_0 = -1.5$. Assign the result to a different variable."
   ]
  },
  {
   "cell_type": "code",
   "execution_count": 168,
   "metadata": {},
   "outputs": [],
   "source": []
  },
  {
   "cell_type": "markdown",
   "metadata": {},
   "source": [
    "Plot the absolute difference between the steps and the relevant root, i.e., $|x_n - x_*|$, on a log scale."
   ]
  },
  {
   "cell_type": "code",
   "execution_count": null,
   "metadata": {},
   "outputs": [],
   "source": []
  },
  {
   "cell_type": "markdown",
   "metadata": {},
   "source": [
    "You should find the repeated difference for the repeated root looks linear on the log-scale, which is the same as we saw for the bisection method. This (correctly) suggests that for repeated roots the Newton-Raphson converges linearly (rather than quadratically)"
   ]
  },
  {
   "cell_type": "markdown",
   "metadata": {},
   "source": [
    "**Commit this question to your git repository and push the changes to GitHub**"
   ]
  },
  {
   "cell_type": "markdown",
   "metadata": {},
   "source": [
    "## Submitting your assignment to BrightSpace\n",
    "\n",
    "To submit your assignment compress your entire ACM20030-Assignments folder (this will contain this assignment and assignment 1) and uploaded the zip file to BrightSpace. DO NOT download the zip file from the GitHub browser interface."
   ]
  }
 ],
 "metadata": {
  "kernelspec": {
   "display_name": "Python 3",
   "language": "python",
   "name": "python3"
  },
  "language_info": {
   "codemirror_mode": {
    "name": "ipython",
    "version": 3
   },
   "file_extension": ".py",
   "mimetype": "text/x-python",
   "name": "python",
   "nbconvert_exporter": "python",
   "pygments_lexer": "ipython3",
   "version": "3.8.3"
  }
 },
 "nbformat": 4,
 "nbformat_minor": 2
}
